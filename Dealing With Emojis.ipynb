{
 "cells": [
  {
   "cell_type": "code",
   "execution_count": 1,
   "id": "12aca930",
   "metadata": {},
   "outputs": [
    {
     "name": "stdout",
     "output_type": "stream",
     "text": [
      "Collecting emot\n",
      "  Downloading emot-3.1-py3-none-any.whl (61 kB)\n",
      "     ---------------------------------------- 61.5/61.5 kB ? eta 0:00:00\n",
      "Installing collected packages: emot\n",
      "Successfully installed emot-3.1\n"
     ]
    }
   ],
   "source": [
    "!pip install emot"
   ]
  },
  {
   "cell_type": "code",
   "execution_count": 3,
   "id": "f2ec93ad",
   "metadata": {},
   "outputs": [],
   "source": [
    "#create sample text data with emoji\n",
    "\n",
    "text1 = \"What are you saying 😂 . I am the boss , and why are you so😊 \""
   ]
  },
  {
   "cell_type": "code",
   "execution_count": 4,
   "id": "08cc8ea2",
   "metadata": {},
   "outputs": [],
   "source": [
    "import re\n",
    "\n",
    "from emot.emo_unicode import UNICODE_EMOJI\n",
    "\n",
    "from emot.emo_unicode import EMOTICONS_EMO"
   ]
  },
  {
   "cell_type": "code",
   "execution_count": 5,
   "id": "e85c6270",
   "metadata": {},
   "outputs": [
    {
     "data": {
      "text/plain": [
       "'What are you saying face_with_tears_of_joy . I am the boss , and why are you sosmiling_face_with_smiling_eyes '"
      ]
     },
     "execution_count": 5,
     "metadata": {},
     "output_type": "execute_result"
    }
   ],
   "source": [
    "# Function for converting emojis into word\n",
    "\n",
    "def converting_emojis(text):\n",
    "\n",
    "    for emot in UNICODE_EMOJI:\n",
    "\n",
    "        text = text.replace(emot, \"_\".join(UNICODE_EMOJI[emot].replace(\",\",\"\")\\\n",
    "\n",
    "                                           .replace(\":\",\"\").split()))\n",
    "\n",
    "    return text\n",
    "\n",
    " \n",
    "\n",
    "converting_emojis(text1)"
   ]
  },
  {
   "cell_type": "code",
   "execution_count": 6,
   "id": "aae1d9a6",
   "metadata": {},
   "outputs": [
    {
     "data": {
      "text/plain": [
       "'What are you saying  . I am the boss , and why are you so '"
      ]
     },
     "execution_count": 6,
     "metadata": {},
     "output_type": "execute_result"
    }
   ],
   "source": [
    "def emoji_removal(string):\n",
    "\n",
    "    emoji_unicodes = re.compile(\"[\"\n",
    "\n",
    "                               u\"\\U0001F600-\\U0001F64F\"  # emoticons\n",
    "\n",
    "                               u\"\\U0001F300-\\U0001F5FF\"  # symbols \n",
    "\n",
    "                               u\"\\U0001F680-\\U0001F6FF\"  # transport \n",
    "\n",
    "                               u\"\\U0001F1E0-\\U0001F1FF\"  # flags (iOS)\n",
    "\n",
    "                               u\"\\U00002500-\\U00002BEF\"  \n",
    "\n",
    "                               u\"\\U00002702-\\U000027B0\"\n",
    "\n",
    "                               u\"\\U000024C2-\\U0001F251\"\n",
    "\n",
    "                               u\"\\U0001f926-\\U0001f937\"\n",
    "\n",
    "                               u\"\\U00010000-\\U0010ffff\"\n",
    "\n",
    "u\"\\u2640-\\u2642\"\n",
    "\n",
    "                               u\"\\u2600-\\u2B55\"\n",
    "\n",
    "                               u\"\\u200d\"\n",
    "\n",
    "                               u\"\\u23cf\"\n",
    "\n",
    "                               u\"\\u23e9\"\n",
    "\n",
    "                               u\"\\u231a\"\n",
    "\n",
    "                               u\"\\ufe0f\"  \n",
    "\n",
    "                               u\"\\u3030\"\n",
    "\n",
    "                               \"]+\", flags=re.UNICODE)\n",
    "\n",
    "    return emoji_unicodes.sub(r'', string)\n",
    "\n",
    "emoji_removal(text1)"
   ]
  },
  {
   "cell_type": "code",
   "execution_count": 7,
   "id": "e78a01d0",
   "metadata": {},
   "outputs": [
    {
     "data": {
      "text/html": [
       "<div>\n",
       "<style scoped>\n",
       "    .dataframe tbody tr th:only-of-type {\n",
       "        vertical-align: middle;\n",
       "    }\n",
       "\n",
       "    .dataframe tbody tr th {\n",
       "        vertical-align: top;\n",
       "    }\n",
       "\n",
       "    .dataframe thead th {\n",
       "        text-align: right;\n",
       "    }\n",
       "</style>\n",
       "<table border=\"1\" class=\"dataframe\">\n",
       "  <thead>\n",
       "    <tr style=\"text-align: right;\">\n",
       "      <th></th>\n",
       "      <th>text</th>\n",
       "    </tr>\n",
       "  </thead>\n",
       "  <tbody>\n",
       "    <tr>\n",
       "      <th>0</th>\n",
       "      <td>What are you saying 😂</td>\n",
       "    </tr>\n",
       "    <tr>\n",
       "      <th>1</th>\n",
       "      <td>I am the boss 😎</td>\n",
       "    </tr>\n",
       "    <tr>\n",
       "      <th>2</th>\n",
       "      <td>why  are you so 😊</td>\n",
       "    </tr>\n",
       "  </tbody>\n",
       "</table>\n",
       "</div>"
      ],
      "text/plain": [
       "                    text\n",
       "0  What are you saying 😂\n",
       "1        I am the boss 😎\n",
       "2      why  are you so 😊"
      ]
     },
     "execution_count": 7,
     "metadata": {},
     "output_type": "execute_result"
    }
   ],
   "source": [
    "sent = [\"What are you saying 😂\", \"I am the boss 😎\", \"why  are you so 😊\"]\n",
    "import pandas as pd\n",
    "df = pd.DataFrame({'text':sent})\n",
    "df.head()"
   ]
  },
  {
   "cell_type": "code",
   "execution_count": null,
   "id": "508c916e",
   "metadata": {},
   "outputs": [],
   "source": []
  }
 ],
 "metadata": {
  "kernelspec": {
   "display_name": "Python 3 (ipykernel)",
   "language": "python",
   "name": "python3"
  },
  "language_info": {
   "codemirror_mode": {
    "name": "ipython",
    "version": 3
   },
   "file_extension": ".py",
   "mimetype": "text/x-python",
   "name": "python",
   "nbconvert_exporter": "python",
   "pygments_lexer": "ipython3",
   "version": "3.9.13"
  }
 },
 "nbformat": 4,
 "nbformat_minor": 5
}
